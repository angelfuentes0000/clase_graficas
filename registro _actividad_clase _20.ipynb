{
 "cells": [
  {
   "cell_type": "code",
   "execution_count": 5,
   "metadata": {},
   "outputs": [],
   "source": [
    "r=[1,2,3,4,5,6,78]"
   ]
  },
  {
   "cell_type": "code",
   "execution_count": 9,
   "metadata": {},
   "outputs": [
    {
     "name": "stdout",
     "output_type": "stream",
     "text": [
      "[3, 4, 5, 6, 78]\n"
     ]
    }
   ],
   "source": [
    "s=r[2:]\n",
    "print(s)"
   ]
  },
  {
   "cell_type": "code",
   "execution_count": 12,
   "metadata": {},
   "outputs": [
    {
     "name": "stdout",
     "output_type": "stream",
     "text": [
      "[54  3  4]\n"
     ]
    }
   ],
   "source": [
    "from numpy import array\n",
    "a=array([21,5,6,54,3,4,5,6],int )\n",
    "b=a[3:6]\n",
    "print(b)"
   ]
  },
  {
   "cell_type": "code",
   "execution_count": 21,
   "metadata": {},
   "outputs": [
    {
     "name": "stdout",
     "output_type": "stream",
     "text": [
      "13\n",
      "26\n",
      "3\n",
      "6\n",
      "8\n",
      "16\n",
      "9\n",
      "18\n",
      "final\n"
     ]
    }
   ],
   "source": [
    "r=[13,3,8,9]\n",
    "for n in r:\n",
    "    print (n)\n",
    "    print(2*n)\n",
    "print(\"final\")\n"
   ]
  },
  {
   "cell_type": "code",
   "execution_count": 24,
   "metadata": {},
   "outputs": [
    {
     "name": "stdout",
     "output_type": "stream",
     "text": [
      "hola\n",
      "2\n",
      "20\n",
      "17\n",
      "14\n",
      "11\n",
      "8\n",
      "5\n",
      "3\n",
      "20\n",
      "17\n",
      "14\n",
      "11\n",
      "8\n",
      "5\n",
      "4\n",
      "20\n",
      "17\n",
      "14\n",
      "11\n",
      "8\n",
      "5\n",
      "5\n",
      "20\n",
      "17\n",
      "14\n",
      "11\n",
      "8\n",
      "5\n",
      "6\n",
      "20\n",
      "17\n",
      "14\n",
      "11\n",
      "8\n",
      "5\n",
      "7\n",
      "20\n",
      "17\n",
      "14\n",
      "11\n",
      "8\n",
      "5\n",
      "hola\n",
      "2\n",
      "20\n",
      "17\n",
      "14\n",
      "11\n",
      "8\n",
      "5\n",
      "3\n",
      "20\n",
      "17\n",
      "14\n",
      "11\n",
      "8\n",
      "5\n",
      "4\n",
      "20\n",
      "17\n",
      "14\n",
      "11\n",
      "8\n",
      "5\n",
      "5\n",
      "20\n",
      "17\n",
      "14\n",
      "11\n",
      "8\n",
      "5\n",
      "6\n",
      "20\n",
      "17\n",
      "14\n",
      "11\n",
      "8\n",
      "5\n",
      "7\n",
      "20\n",
      "17\n",
      "14\n",
      "11\n",
      "8\n",
      "5\n",
      "hola\n",
      "2\n",
      "20\n",
      "17\n",
      "14\n",
      "11\n",
      "8\n",
      "5\n",
      "3\n",
      "20\n",
      "17\n",
      "14\n",
      "11\n",
      "8\n",
      "5\n",
      "4\n",
      "20\n",
      "17\n",
      "14\n",
      "11\n",
      "8\n",
      "5\n",
      "5\n",
      "20\n",
      "17\n",
      "14\n",
      "11\n",
      "8\n",
      "5\n",
      "6\n",
      "20\n",
      "17\n",
      "14\n",
      "11\n",
      "8\n",
      "5\n",
      "7\n",
      "20\n",
      "17\n",
      "14\n",
      "11\n",
      "8\n",
      "5\n",
      "hola\n",
      "2\n",
      "20\n",
      "17\n",
      "14\n",
      "11\n",
      "8\n",
      "5\n",
      "3\n",
      "20\n",
      "17\n",
      "14\n",
      "11\n",
      "8\n",
      "5\n",
      "4\n",
      "20\n",
      "17\n",
      "14\n",
      "11\n",
      "8\n",
      "5\n",
      "5\n",
      "20\n",
      "17\n",
      "14\n",
      "11\n",
      "8\n",
      "5\n",
      "6\n",
      "20\n",
      "17\n",
      "14\n",
      "11\n",
      "8\n",
      "5\n",
      "7\n",
      "20\n",
      "17\n",
      "14\n",
      "11\n",
      "8\n",
      "5\n",
      "hola\n",
      "2\n",
      "20\n",
      "17\n",
      "14\n",
      "11\n",
      "8\n",
      "5\n",
      "3\n",
      "20\n",
      "17\n",
      "14\n",
      "11\n",
      "8\n",
      "5\n",
      "4\n",
      "20\n",
      "17\n",
      "14\n",
      "11\n",
      "8\n",
      "5\n",
      "5\n",
      "20\n",
      "17\n",
      "14\n",
      "11\n",
      "8\n",
      "5\n",
      "6\n",
      "20\n",
      "17\n",
      "14\n",
      "11\n",
      "8\n",
      "5\n",
      "7\n",
      "20\n",
      "17\n",
      "14\n",
      "11\n",
      "8\n",
      "5\n"
     ]
    }
   ],
   "source": [
    "for i in range (5):\n",
    "    print(\"hola\")\n",
    "    for j in range (2,8):\n",
    "        print(j)\n",
    "        for n in range (20, 2, -3):# desde 20 hacia atras el -3 es el salto \n",
    "            print(n)"
   ]
  },
  {
   "cell_type": "code",
   "execution_count": 47,
   "metadata": {},
   "outputs": [
    {
     "ename": "IndentationError",
     "evalue": "expected an indented block (<ipython-input-47-bb6bae51b207>, line 4)",
     "output_type": "error",
     "traceback": [
      "\u001b[0;36m  File \u001b[0;32m\"<ipython-input-47-bb6bae51b207>\"\u001b[0;36m, line \u001b[0;32m4\u001b[0m\n\u001b[0;31m    print(\"ok\",i)\u001b[0m\n\u001b[0m        ^\u001b[0m\n\u001b[0;31mIndentationError\u001b[0m\u001b[0;31m:\u001b[0m expected an indented block\n"
     ]
    }
   ],
   "source": [
    "# tambien se pueden incluir las condiciones de break y continue\n",
    "for i in range( 15 ):\n",
    "    if in i==5:\n",
    "    print(\"ok\",i)\n",
    "    continue\n",
    "    if i==10:\n",
    "        break # rompe el for y sale de ese loop \n",
    "        print(i*i)"
   ]
  },
  {
   "cell_type": "code",
   "execution_count": 40,
   "metadata": {},
   "outputs": [
    {
     "name": "stdout",
     "output_type": "stream",
     "text": [
      "0\n",
      "1\n",
      "2\n",
      "3\n",
      "4\n"
     ]
    }
   ],
   "source": [
    "p=10\n",
    "q=2\n",
    "for i in range (p//q):\n",
    "    print(i)"
   ]
  },
  {
   "cell_type": "code",
   "execution_count": 57,
   "metadata": {},
   "outputs": [
    {
     "ename": "IndentationError",
     "evalue": "expected an indented block (<ipython-input-57-ac5dbfce2ea6>, line 4)",
     "output_type": "error",
     "traceback": [
      "\u001b[0;36m  File \u001b[0;32m\"<ipython-input-57-ac5dbfce2ea6>\"\u001b[0;36m, line \u001b[0;32m4\u001b[0m\n\u001b[0;31m    print(a)\u001b[0m\n\u001b[0m        ^\u001b[0m\n\u001b[0;31mIndentationError\u001b[0m\u001b[0;31m:\u001b[0m expected an indented block\n"
     ]
    }
   ],
   "source": [
    "from numpy import arange\n",
    "a=arange(1, 10, 1.0)\n",
    "for i in a:\n",
    "print(a)"
   ]
  },
  {
   "cell_type": "code",
   "execution_count": 59,
   "metadata": {},
   "outputs": [
    {
     "data": {
      "image/png": "[encoded data removed]",
      "text/plain": [
       "<Figure size 432x288 with 1 Axes>"
      ]
     },
     "metadata": {
      "needs_background": "light"
     },
     "output_type": "display_data"
    }
   ],
   "source": [
    "# para graficar \n",
    "\n",
    "from pylab import plot, show\n",
    "y= [1., 2.4, 1.7, 0.3, 0.6, 1.8]# grafica lo que hay en la posicion \n",
    "plot(y)\n",
    "show()"
   ]
  },
  {
   "cell_type": "code",
   "execution_count": 63,
   "metadata": {},
   "outputs": [
    {
     "data": {
      "image/png": "[encoded data removed]",
      "text/plain": [
       "<Figure size 432x288 with 1 Axes>"
      ]
     },
     "metadata": {
      "needs_background": "light"
     },
     "output_type": "display_data"
    }
   ],
   "source": [
    "x=[0.5, 1., 2., 4., 7., 10.]\n",
    "plot(x,y)#para superponer dos graficos se vuelve a plotear \n",
    "plot(y,x)\n",
    "show()"
   ]
  },
  {
   "cell_type": "code",
   "execution_count": 68,
   "metadata": {},
   "outputs": [
    {
     "data": {
      "image/png": "[encoded data removed]",
      "text/plain": [
       "<Figure size 432x288 with 1 Axes>"
      ]
     },
     "metadata": {
      "needs_background": "light"
     },
     "output_type": "display_data"
    }
   ],
   "source": [
    "#para guardar en un archivo \n",
    "from pylab import savefig # sirve para guardar la imagen\n",
    "plot(x,y)\n",
    "savefig('grafica_prueba.eps', format='eps', dpi=1000)\n",
    "show()"
   ]
  },
  {
   "cell_type": "code",
   "execution_count": 66,
   "metadata": {},
   "outputs": [
    {
     "data": {
      "image/png": "[encoded data removed]",
      "text/plain": [
       "<Figure size 432x288 with 1 Axes>"
      ]
     },
     "metadata": {
      "needs_background": "light"
     },
     "output_type": "display_data"
    }
   ],
   "source": [
    "from numpy import linspace, sin, cos\n",
    "x= linspace (0, 10, 1000) # va de o a 10 y lo divide en 1000 pasos \n",
    "y=sin (x)\n",
    "plot(x,y)\n",
    "show()\n",
    "\n"
   ]
  },
  {
   "cell_type": "code",
   "execution_count": 76,
   "metadata": {},
   "outputs": [
    {
     "data": {
      "image/png": "[encoded data removed]",
      "text/plain": [
       "<Figure size 432x288 with 1 Axes>"
      ]
     },
     "metadata": {
      "needs_background": "light"
     },
     "output_type": "display_data"
    }
   ],
   "source": [
    "from pylab import ylim, xlim, grid, xlabel, ylabel\n",
    "\n",
    "x= linspace (0, 10, 1000) # va de o a 10 y lo divide en 1000 pasos \n",
    "y=sin (x)\n",
    "\n",
    "plot(x,y,'g--')\n",
    "ylim(-1.1, 1.1)\n",
    "xlim(0., 10)\n",
    "grid(\"on\")\n",
    "xlabel(\"eje x\")\n",
    "ylabel(\"eje y\")\n",
    "show()\n"
   ]
  },
  {
   "cell_type": "code",
   "execution_count": 79,
   "metadata": {},
   "outputs": [
    {
     "data": {
      "image/png": "[encoded data removed]",
      "text/plain": [
       "<Figure size 432x288 with 1 Axes>"
      ]
     },
     "metadata": {
      "needs_background": "light"
     },
     "output_type": "display_data"
    }
   ],
   "source": [
    "from numpy import loadtxt\n",
    "dataCO2=loadtxt(\"co2_mm_gl.txt\",float)\n",
    "plot(dataCO2[:,2],dataCO2[:,3])\n",
    "xlim(2014, 2019)\n",
    "ylim(390, 410)\n",
    "show()"
   ]
  },
  {
   "cell_type": "code",
   "execution_count": null,
   "metadata": {},
   "outputs": [],
   "source": []
  }
 ],
 "metadata": {
  "kernelspec": {
   "display_name": "Python 3",
   "language": "python",
   "name": "python3"
  },
  "language_info": {
   "codemirror_mode": {
    "name": "ipython",
    "version": 3
   },
   "file_extension": ".py",
   "mimetype": "text/x-python",
   "name": "python",
   "nbconvert_exporter": "python",
   "pygments_lexer": "ipython3",
   "version": "3.5.2"
  }
 },
 "nbformat": 4,
 "nbformat_minor": 2
}
